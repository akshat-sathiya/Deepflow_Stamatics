{
  "nbformat": 4,
  "nbformat_minor": 0,
  "metadata": {
    "colab": {
      "provenance": [],
      "gpuType": "T4"
    },
    "kernelspec": {
      "name": "python3",
      "display_name": "Python 3"
    },
    "language_info": {
      "name": "python"
    },
    "accelerator": "GPU"
  },
  "cells": [
    {
      "cell_type": "code",
      "execution_count": null,
      "metadata": {
        "collapsed": true,
        "id": "YNlIvVQT_jl7"
      },
      "outputs": [],
      "source": [
        "import pandas as pd\n",
        "import numpy as np\n",
        "from sklearn.ensemble import RandomForestRegressor\n",
        "from sklearn.metrics import mean_absolute_error\n",
        "import xgboost as xgb\n",
        "import torch\n",
        "from sklearn.ensemble import RandomForestRegressor"
      ]
    },
    {
      "cell_type": "code",
      "source": [
        "from google.colab import drive\n",
        "drive.mount('/content/drive')"
      ],
      "metadata": {
        "colab": {
          "base_uri": "https://localhost:8080/"
        },
        "id": "lHWv_2JmuPsG",
        "outputId": "d89071d7-682e-42a6-c5c3-61006af4f759"
      },
      "execution_count": null,
      "outputs": [
        {
          "output_type": "stream",
          "name": "stdout",
          "text": [
            "Drive already mounted at /content/drive; to attempt to forcibly remount, call drive.mount(\"/content/drive\", force_remount=True).\n"
          ]
        }
      ]
    },
    {
      "cell_type": "code",
      "source": [
        "project = \"drive/My Drive/Assignment\"\n",
        "train = pd.read_csv(project + \"/Train.csv\")\n",
        "train_sample = train.sample(n=30000,random_state=42)"
      ],
      "metadata": {
        "colab": {
          "base_uri": "https://localhost:8080/"
        },
        "id": "L3QRfJqP_v8S",
        "outputId": "786ae47d-0a48-40ef-d3fd-1da489bba736"
      },
      "execution_count": null,
      "outputs": [
        {
          "output_type": "stream",
          "name": "stderr",
          "text": [
            "<ipython-input-19-3363561198>:2: DtypeWarning: Columns (13,39,40,41) have mixed types. Specify dtype option on import or set low_memory=False.\n",
            "  train = pd.read_csv(project + \"/Train.csv\")\n"
          ]
        }
      ]
    },
    {
      "cell_type": "code",
      "source": [
        "device = torch.device(\"cuda\" if torch.cuda.is_available() else \"cpu\")\n",
        "device"
      ],
      "metadata": {
        "id": "H70ATMFYB3Js",
        "colab": {
          "base_uri": "https://localhost:8080/"
        },
        "outputId": "342b6500-91be-40b0-ad44-908943f51f2c"
      },
      "execution_count": null,
      "outputs": [
        {
          "output_type": "execute_result",
          "data": {
            "text/plain": [
              "device(type='cuda')"
            ]
          },
          "metadata": {},
          "execution_count": 20
        }
      ]
    },
    {
      "cell_type": "code",
      "source": [
        "X_train = train_sample.drop([\"SalePrice\"], axis=1)\n",
        "y_train = train_sample[\"SalePrice\"]\n",
        "sample = X_train.head(3)\n",
        "sample1= sample.iloc[:1]\n",
        "sample2=sample.iloc[2:3]\n"
      ],
      "metadata": {
        "id": "e-5SXoTmEZFi"
      },
      "execution_count": null,
      "outputs": []
    },
    {
      "cell_type": "code",
      "source": [
        "for col in X_train.columns:\n",
        "    if (sample1[col].isna().item() or sample2[col].isna().item()):\n",
        "      X_train = X_train.drop([col], axis=1)\n",
        "f_features = X_train.columns\n",
        "len(f_features)"
      ],
      "metadata": {
        "id": "MurG0EuONfCj",
        "colab": {
          "base_uri": "https://localhost:8080/"
        },
        "outputId": "b3573652-acc0-4baa-c66b-2e0afa9a00c0"
      },
      "execution_count": null,
      "outputs": [
        {
          "output_type": "execute_result",
          "data": {
            "text/plain": [
              "16"
            ]
          },
          "metadata": {},
          "execution_count": 22
        }
      ]
    },
    {
      "cell_type": "code",
      "source": [
        "X_val = pd.read_csv(project + \"/Valid.csv\", usecols= f_features)\n",
        "y_val = pd.read_csv(project+\"/median_benchmark.csv\",usecols=['SalePrice'])\n",
        "y_val = np.log(y_val[\"SalePrice\"])\n",
        "test = pd.read_csv(project + \"/Test.csv\", usecols= f_features)"
      ],
      "metadata": {
        "id": "-mUIPqOQWEM3"
      },
      "execution_count": null,
      "outputs": []
    },
    {
      "cell_type": "code",
      "source": [
        "categorical_cols = X_train.select_dtypes(include='object').columns\n",
        "categorical_cols\n",
        "for i in categorical_cols:\n",
        "  X_train[i]=X_train[i].astype('category')\n",
        "  X_val[i]=X_val[i].astype('category')\n",
        "  test[i]=test[i].astype('category')\n"
      ],
      "metadata": {
        "collapsed": true,
        "id": "UIhQyWT3Vxo4"
      },
      "execution_count": null,
      "outputs": []
    },
    {
      "cell_type": "code",
      "source": [
        "for name, column in test.items():\n",
        "  if column.dtype.name == 'category':\n",
        "    X_train[name] = column.cat.codes\n",
        "    test[name] = column.cat.codes\n",
        "X_train.fillna(X_train.median(), inplace = True)\n",
        "test.dtypes.value_counts()"
      ],
      "metadata": {
        "collapsed": true,
        "id": "uas6eHYKZ8bJ",
        "colab": {
          "base_uri": "https://localhost:8080/",
          "height": 210
        },
        "outputId": "42766a31-8299-4df7-cd62-c242b9d26875"
      },
      "execution_count": null,
      "outputs": [
        {
          "output_type": "execute_result",
          "data": {
            "text/plain": [
              "int64      6\n",
              "int8       6\n",
              "int16      3\n",
              "float64    1\n",
              "Name: count, dtype: int64"
            ],
            "text/html": [
              "<div>\n",
              "<style scoped>\n",
              "    .dataframe tbody tr th:only-of-type {\n",
              "        vertical-align: middle;\n",
              "    }\n",
              "\n",
              "    .dataframe tbody tr th {\n",
              "        vertical-align: top;\n",
              "    }\n",
              "\n",
              "    .dataframe thead th {\n",
              "        text-align: right;\n",
              "    }\n",
              "</style>\n",
              "<table border=\"1\" class=\"dataframe\">\n",
              "  <thead>\n",
              "    <tr style=\"text-align: right;\">\n",
              "      <th></th>\n",
              "      <th>count</th>\n",
              "    </tr>\n",
              "  </thead>\n",
              "  <tbody>\n",
              "    <tr>\n",
              "      <th>int64</th>\n",
              "      <td>6</td>\n",
              "    </tr>\n",
              "    <tr>\n",
              "      <th>int8</th>\n",
              "      <td>6</td>\n",
              "    </tr>\n",
              "    <tr>\n",
              "      <th>int16</th>\n",
              "      <td>3</td>\n",
              "    </tr>\n",
              "    <tr>\n",
              "      <th>float64</th>\n",
              "      <td>1</td>\n",
              "    </tr>\n",
              "  </tbody>\n",
              "</table>\n",
              "</div><br><label><b>dtype:</b> int64</label>"
            ]
          },
          "metadata": {},
          "execution_count": 26
        }
      ]
    },
    {
      "cell_type": "code",
      "source": [
        "X_train.shape , X_val.shape , test.shape"
      ],
      "metadata": {
        "id": "SemsxC6ufNQC",
        "colab": {
          "base_uri": "https://localhost:8080/"
        },
        "outputId": "fb90ddbd-bd0c-4c10-98ff-4afa9955ce1c"
      },
      "execution_count": null,
      "outputs": [
        {
          "output_type": "execute_result",
          "data": {
            "text/plain": [
              "((30000, 16), (11573, 16), (12457, 16))"
            ]
          },
          "metadata": {},
          "execution_count": 27
        }
      ]
    },
    {
      "cell_type": "code",
      "source": [
        "model = RandomForestRegressor(n_estimators=1, bootstrap=False, random_state=42)\n",
        "model.fit(X_train,y_train)\n",
        "y_pred= model.predict(test)"
      ],
      "metadata": {
        "id": "GOTOjBwvbULP"
      },
      "execution_count": null,
      "outputs": []
    },
    {
      "cell_type": "code",
      "source": [
        "output = pd.DataFrame({'id': test.SalesID,\n",
        "                       'yield': y_pred})\n",
        "output.to_csv('submission.csv', index=False)"
      ],
      "metadata": {
        "id": "hJNRRhWQjev5"
      },
      "execution_count": null,
      "outputs": []
    }
  ]
}